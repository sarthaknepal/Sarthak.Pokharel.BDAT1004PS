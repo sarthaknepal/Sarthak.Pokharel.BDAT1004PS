{
 "cells": [
  {
   "cell_type": "markdown",
   "id": "5aab10cd",
   "metadata": {},
   "source": [
    "# Question 6 Python: \n",
    "You can turn a word into pig-Latin using the following two rules (simplified):\n",
    "* If the word starts with a consonant, move that letter to the end and append'ay'. For example, 'happy' becomes 'appyhay' and 'pencil' becomes 'encilpay'.\n",
    "*  If the word starts with a vowel, simply append 'way' to the end of the word.\n",
    "\n",
    "For example, 'enter' becomes 'enterway' and 'other' becomes 'otherway' . For\n",
    "our purposes, there are 5 vowels: a, e, i, o, u (so we count y as a consonant).\n",
    "Write a function pig() that takes a word (i.e., a string) as input and returns its pig-\n",
    "Latin form. Your function should still work if the input word contains upper case\n",
    "characters. Your output should always be lower case however."
   ]
  },
  {
   "cell_type": "code",
   "execution_count": 1,
   "id": "a26e8e10",
   "metadata": {},
   "outputs": [
    {
     "name": "stdout",
     "output_type": "stream",
     "text": [
      "appyhay\n",
      "enterway\n"
     ]
    }
   ],
   "source": [
    "def pig(word):\n",
    "    word = word.lower()\n",
    "\n",
    "    if word[0] in 'aeiou':\n",
    "        return word + 'way'\n",
    "    else:\n",
    "        for i, char in enumerate(word):\n",
    "            if char in 'aeiou':\n",
    "                return word[i:] + word[:i] + 'ay'\n",
    "print(pig('happy'))\n",
    "print(pig('Enter'))"
   ]
  },
  {
   "cell_type": "markdown",
   "id": "614837a1",
   "metadata": {},
   "source": [
    "# Question 7 Python:\n",
    "File bloodtype1.txt records blood-types of patients (A, B, AB, O or OO) at a clinic.\n",
    "Write a function bldcount() that reads the file with name name and reports (i.e.,prints) how many patients there are in each bloodtype"
   ]
  },
  {
   "cell_type": "code",
   "execution_count": 2,
   "id": "4aa37e6b",
   "metadata": {},
   "outputs": [
    {
     "name": "stdout",
     "output_type": "stream",
     "text": [
      "There are 15 of blood type A\n",
      "There are 1 of blood type B\n",
      "There are 13 of blood type AB\n",
      "There are 15 of blood type O\n",
      "There are 0 of blood type OO\n"
     ]
    }
   ],
   "source": [
    "def bldcount(filename):\n",
    "    blood_counts = {'A': 0, 'B': 0, 'AB': 0, 'O': 0, 'OO': 0}\n",
    "    \n",
    "    with open(filename, 'r') as file:\n",
    "        blood_types = file.read().split()\n",
    "        \n",
    "        for blood_type in blood_types:\n",
    "            if blood_type in blood_counts:\n",
    "                blood_counts[blood_type] += 1\n",
    "\n",
    "\n",
    "    for blood_type, count in blood_counts.items():\n",
    "        print(f'There are {count} of blood type {blood_type}')\n",
    "\n",
    "        \n",
    "bldcount('bloodtype1.txt')"
   ]
  },
  {
   "cell_type": "markdown",
   "id": "8eec10ce",
   "metadata": {},
   "source": [
    "# Question 8 Python:\n",
    "\n",
    "Write a function curconv() that takes as input:\n",
    "1. a currency represented using a string (e.g., 'JPY' for the Japanese Yen or\n",
    "'EUR' for the Euro)\n",
    "2. an amount\n",
    "and then converts and returns the amount in US dollars.\n",
    "* curconv('EUR', 100)\n",
    "* 122.96544\n",
    "* curconv('JPY', 100)\n",
    "* 1.241401\n",
    "\n",
    "The currency rates you will need are stored in file currencies.txt:\n",
    "\n",
    "* AUD 1.0345157 Australian Dollar\n",
    "* CHF 1.0237414 Swiss Franc\n",
    "* CNY 0.1550176 Chinese Yuan\n",
    "* DKK 0.1651442 Danish Krone\n",
    "* EUR 1.2296544 Euro\n",
    "* GBP 1.5550989 British Pound\n",
    "* HKD 0.1270207 Hong Kong Dollar\n",
    "* INR 0.0177643 Indian Rupee\n",
    "* JPY 0.01241401 Japanese Yen\n",
    "* MXN 0.0751848 Mexican Peso\n",
    "* MYR 0.3145411 Malaysian Ringgit\n",
    "* NOK 0.1677063 Norwegian Krone\n",
    "* NZD 0.8003591 New Zealand Dollar\n",
    "* PHP 0.0233234 Philippine Peso\n",
    "* SEK 0.148269 Swedish Krona\n",
    "* SGD 0.788871 Singapore Dollar\n",
    "* THB 0.0313789 Thai Baht\n"
   ]
  },
  {
   "cell_type": "code",
   "execution_count": 3,
   "id": "48fa17eb",
   "metadata": {},
   "outputs": [
    {
     "name": "stdout",
     "output_type": "stream",
     "text": [
      "122.96544\n",
      "1.241401\n"
     ]
    }
   ],
   "source": [
    "def curconv(currency_code, amount):\n",
    "    exchange_rates = {}\n",
    "\n",
    "    with open('currencies.txt', 'r') as file:\n",
    "        lines = file.readlines()\n",
    "        for line in lines:\n",
    "            parts = line.split()\n",
    "            code = parts[0]\n",
    "            rate = float(parts[1])\n",
    "            exchange_rates[code] = rate\n",
    "\n",
    "    # check if the given currency is available in the currencies.txt\n",
    "    if currency_code in exchange_rates:\n",
    "        usd_amount = amount * exchange_rates[currency_code]\n",
    "        return usd_amount\n",
    "    else:\n",
    "        return \"Currency code not found in database.\"\n",
    "\n",
    "print(curconv('EUR', 100))\n",
    "print(curconv('JPY', 100))\n"
   ]
  },
  {
   "cell_type": "markdown",
   "id": "b7bf39bb",
   "metadata": {},
   "source": [
    "# Question 9 Python:\n",
    "Each of the following will cause an exception (an error). Identify what type ofexception each will cause\n",
    "\n",
    "* Trying to add incompatible variables, as inadding 6 + ‘a’\n",
    "* Referring to the 12th item of a list that has only 10 items\n",
    "* Using a value that is out of range for a function’s input, such as calling math.sqrt(-1.0)\n",
    "* Using an undeclared variable, such as print(x) when x has not been defined\n",
    "* Trying to open a file that does not exist, such as mistyping the file name or looking in the wrongdirectory."
   ]
  },
  {
   "cell_type": "code",
   "execution_count": 4,
   "id": "3647c999",
   "metadata": {},
   "outputs": [
    {
     "name": "stdout",
     "output_type": "stream",
     "text": [
      "Exception caused due to Trying to add incompatible variables is: TypeError\n",
      "Exception caused due to Referring to the 12th item of a list that has only 10 items is: IndexError\n",
      "Exception caused due to Using a value that is out of range for a function’s input, such as calling math.sqrt(-1.0) is: ValueError\n",
      "Exception caused due to Using an undeclared variable, such as print(x) when x has not been defined is: NameError\n",
      "Exception caused due to Trying to open a file that does not exist, such as mistyping the file name or looking in the wrong directory is: FileNotFoundError\n"
     ]
    }
   ],
   "source": [
    "import math\n",
    "\n",
    "def handle_exceptions(operation, operation_name):\n",
    "    try:\n",
    "        operation()\n",
    "    except Exception as e:\n",
    "        print(f\"Exception caused due to {operation_name} is: {type(e).__name__}\")\n",
    "\n",
    "def operation_1():\n",
    "    result = 6 + 'a'\n",
    "\n",
    "def operation_2():\n",
    "    my_list = [1, 2, 3, 4, 5, 6, 7, 8, 9, 10]\n",
    "    item = my_list[12]\n",
    "\n",
    "def operation_3():\n",
    "    result = math.sqrt(-1.0)\n",
    "    \n",
    "def operation_4():\n",
    "    print(x)\n",
    "    operation_name = \"\"\n",
    "\n",
    "def operation_5():\n",
    "    with open('nonexistent.txt', 'r'):\n",
    "        pass\n",
    "\n",
    "handle_exceptions(operation_1,\"Trying to add incompatible variables\")\n",
    "handle_exceptions(operation_2, \"Referring to the 12th item of a list that has only 10 items\")\n",
    "handle_exceptions(operation_3, \"Using a value that is out of range for a function’s input, such as calling math.sqrt(-1.0)\")\n",
    "handle_exceptions(operation_4, \"Using an undeclared variable, such as print(x) when x has not been defined\")\n",
    "handle_exceptions(operation_5, \"Trying to open a file that does not exist, such as mistyping the file name or looking in the wrong directory\")\n",
    "    "
   ]
  },
  {
   "cell_type": "markdown",
   "id": "24f04122",
   "metadata": {},
   "source": [
    "# Question 10 Python:\n",
    "Encryption is the process of hiding the meaning of a text by substituting letters in the message with other letters, according to some system. If the process is successful, no one but the intended recipient can understand the encrypted message. Cryptanalysis refers to attempts to undo the encryption, even if some details of the encryption are unknown (for example, if an encrypted message has been intercepted). The first step of cryptanalysis is often to build up a table of letter frequencies in the encrypted text.\n",
    "Assume that the string letters is already defined as 'abcdefghijklmnopqrstuvwxyz'. Write a function called frequencies()\n",
    "that takes a string as its only parameter, and returns a list of integers, showing the number of times each character appears in the text. Your function may ignore any characters that are not in letters.\n",
    "* frequencies('The quick red fox got bored and went home.')\n",
    "* frequencies('apple')"
   ]
  },
  {
   "cell_type": "code",
   "execution_count": 6,
   "id": "b6468bb5",
   "metadata": {},
   "outputs": [
    {
     "name": "stdout",
     "output_type": "stream",
     "text": [
      "[1, 1, 1, 3, 5, 1, 1, 2, 1, 0, 1, 0, 1, 2, 4, 0, 1, 2, 0, 3, 1, 0, 1, 1, 0, 0]\n",
      "[1, 0, 0, 0, 1, 0, 0, 0, 0, 0, 0, 1, 0, 0, 0, 2, 0, 0, 0, 0, 0, 0, 0, 0, 0, 0]\n"
     ]
    }
   ],
   "source": [
    "def frequencies(text):\n",
    "    letters = 'abcdefghijklmnopqrstuvwxyz'\n",
    "    text = text.lower()\n",
    "\n",
    "    counts = [text.count(char) for char in letters]\n",
    "\n",
    "    return counts\n",
    "\n",
    "result = frequencies('The quick red fox got bored and went home.')\n",
    "print(result)\n",
    "\n",
    "result = frequencies('apple')\n",
    "print(result)"
   ]
  },
  {
   "cell_type": "markdown",
   "id": "ffe0f13c",
   "metadata": {},
   "source": [
    "# Question 1 C#\n",
    "What data type is each of the following?\n",
    "* 5\n",
    "* 5.0\n",
    "* 5 > 1\n",
    "* '5'\n",
    "* 5 * 2\n",
    "* '5' * 2\n",
    "* '5' + '2'\n",
    "* 5 / 2\n",
    "* 5 % 2\n",
    "* {5, 2, 1}\n",
    "* 5 == 3\n",
    "* Pi (the number)"
   ]
  },
  {
   "cell_type": "code",
   "execution_count": 2,
   "id": "cc518e7d",
   "metadata": {},
   "outputs": [
    {
     "name": "stdout",
     "output_type": "stream",
     "text": [
      "5 is: System.Int32\n",
      "5.0 is: System.Double\n",
      "5>1 is: System.Boolean\n",
      "'5' is: System.Char\n",
      "5*2 is: System.Int32\n",
      "'5'*2 is: System.Int32\n",
      "'5'+'2' is: System.Int32\n",
      "5/2 is: System.Int32\n",
      "5 % 2 is: System.Int32\n",
      "int[] {5,2,1} is: System.Int32[]\n",
      "5 == 2 is: System.Boolean\n",
      "PI is: System.Double\n"
     ]
    }
   ],
   "source": [
    "static string getDataType(object value)\n",
    "{\n",
    "    return value.GetType().ToString();\n",
    "}\n",
    "\n",
    "Console.WriteLine(\"5 is: \" + getDataType(5));\n",
    "Console.WriteLine(\"5.0 is: \" + getDataType(5.0));\n",
    "Console.WriteLine(\"5>1 is: \" + getDataType(5 > 1));\n",
    "Console.WriteLine(\"'5' is: \" + getDataType('5'));\n",
    "Console.WriteLine(\"5*2 is: \" + getDataType(5 * 2));\n",
    "Console.WriteLine(\"'5'*2 is: \" + getDataType('5' * 2));\n",
    "Console.WriteLine(\"'5'+'2' is: \" + getDataType('5' + '2'));\n",
    "Console.WriteLine(\"5/2 is: \" + getDataType(5 / 2));\n",
    "Console.WriteLine(\"5 % 2 is: \" + getDataType(5 % 2));\n",
    "Console.WriteLine(\"int[] {5,2,1} is: \" + getDataType(new int[] { 5, 2, 1 }));\n",
    "Console.WriteLine(\"5 == 2 is: \" + getDataType(5 == 2));\n",
    "Console.WriteLine(\"PI is: \" + getDataType(Math.PI));\n",
    "\n",
    "/*\n",
    "5 -> int  (it is an integer Literal)\n",
    "5.0 -> double (this is a floating point literal with a decimal point)\n",
    "5 > 1 -> boolean (as it is a comparision operator, this will result in either true or false)\n",
    "'5' -> char (this is a character literal enclosed in a single quote)\n",
    "5 * 2 -> int (operation is performed, integer expression)\n",
    "'5' * 2 -> int (character multiplied by an integer results in integer output)\n",
    "'5' + '2' -> int (character addition results in integer)\n",
    "5 / 2 -> int (integer division)\n",
    "5 % 2 -> int (integer modulus operation)\n",
    "{5, 2, 1} -> int[] (array containing integers)\n",
    "5 == 3 -> boolean (comparision operator)\n",
    "Pi (the number) -> double (consists of decimal values)\n",
    "*/"
   ]
  },
  {
   "cell_type": "markdown",
   "id": "fd5daf70",
   "metadata": {},
   "source": [
    "# Question 2 C#\n",
    "Write (and evaluate) C# expressions that answer these questions:\n",
    "\n",
    "* a. How many letters are there in 'Supercalifragilisticexpialidocious'?"
   ]
  },
  {
   "cell_type": "code",
   "execution_count": 3,
   "id": "44ed9240",
   "metadata": {},
   "outputs": [
    {
     "name": "stdout",
     "output_type": "stream",
     "text": [
      "Letter Count of the word:34\r\n"
     ]
    }
   ],
   "source": [
    "string word = \"Supercalifragilisticexpialidocious\";\n",
    "int count = word.Length;\n",
    "Console.WriteLine(\"Letter Count of the word:\" + count);"
   ]
  },
  {
   "cell_type": "markdown",
   "id": "6d851d71",
   "metadata": {},
   "source": [
    "b. Does 'Supercalifragilisticexpialidocious' contain 'ice' as a substring?"
   ]
  },
  {
   "cell_type": "code",
   "execution_count": 5,
   "id": "12988856",
   "metadata": {},
   "outputs": [
    {
     "name": "stdout",
     "output_type": "stream",
     "text": [
      "Does the word contain the word 'ice': Yes\r\n"
     ]
    }
   ],
   "source": [
    "bool containsIce = word.Contains(\"ice\");\n",
    "Console.WriteLine(\"Does the word contain the word 'ice': \" + (containsIce ? \"Yes\" : \"No\"));"
   ]
  },
  {
   "cell_type": "markdown",
   "id": "9d06396f",
   "metadata": {},
   "source": [
    "c. Which of the following words is the longest:\n",
    "Supercalifragilisticexpialidocious, Honorificabilitudinitatibus, or Bababadalgharaghtakamminarronnkonn?\n"
   ]
  },
  {
   "cell_type": "code",
   "execution_count": 7,
   "id": "ab76418f",
   "metadata": {},
   "outputs": [
    {
     "name": "stdout",
     "output_type": "stream",
     "text": [
      "Supercalifragilisticexpialidocious\r\n"
     ]
    }
   ],
   "source": [
    "string word1 = \"Supercalifragilisticexpialidocious\";\n",
    "string word2 = \"Honorificabilitudinitatibus\";\n",
    "string word3 = \"Bababadalgharaghtakamminarronnkonn\";\n",
    "\n",
    "Console.WriteLine((word1.Length >= word2.Length && word1.Length >= word3.Length)\n",
    "    ? word1\n",
    "    : (word2.Length >= word1.Length && word2.Length >= word3.Length)\n",
    "        ? word2\n",
    "        : word3);"
   ]
  },
  {
   "cell_type": "markdown",
   "id": "51f7b809",
   "metadata": {},
   "source": [
    "d. Which composer comes first in the dictionary: 'Berlioz', 'Borodin', 'Brian', 'Bartok', 'Bellini', 'Buxtehude', 'Bernstein'. Which one comes last?"
   ]
  },
  {
   "cell_type": "code",
   "execution_count": 9,
   "id": "2ea03075",
   "metadata": {},
   "outputs": [
    {
     "name": "stdout",
     "output_type": "stream",
     "text": [
      "First composer is: Berlioz\n",
      "Last composer is: Bernstein\n"
     ]
    }
   ],
   "source": [
    "string[] composers = { \"Berlioz\", \"Borodin\", \"Brian\", \"Bartok\", \"Bellini\", \"Buxtehude\", \"Bernstein\" };\n",
    "\n",
    "string firstComposer = composers[0];\n",
    "string lastComposer = composers[composers.Length - 1];\n",
    "\n",
    "Console.WriteLine(\"First composer is: \" + firstComposer);\n",
    "Console.WriteLine(\"Last composer is: \" + lastComposer);"
   ]
  },
  {
   "cell_type": "markdown",
   "id": "eaee7c42",
   "metadata": {},
   "source": [
    "# Question 3 C#\n",
    "Implement function triangleArea(a,b,c) that takes as input the lengths of the 3\n",
    "sides of a triangle and returns the area of the triangle. By Heron's formula, the area \n",
    "of a triangle with side lengths a, b, and c is\n",
    "s(s - a)(s -b)(s -c)\n",
    ", where \n",
    "s = (a+b+c)/2. \n",
    "* triangleArea(2,2,2)\n",
    "1.7320508075688772"
   ]
  },
  {
   "cell_type": "code",
   "execution_count": 10,
   "id": "d612c48f",
   "metadata": {},
   "outputs": [
    {
     "name": "stdout",
     "output_type": "stream",
     "text": [
      "1.7320508075688772\r\n"
     ]
    }
   ],
   "source": [
    "static double triangleArea(double a, double b, double c)\n",
    "{\n",
    "\n",
    "    double s = (a + b + c) / 2;\n",
    "\n",
    "    double area = Math.Sqrt(s * (s - a) * (s - b) * (s - c));\n",
    "\n",
    "    return area;\n",
    "}\n",
    "\n",
    "Console.WriteLine(triangleArea(2, 2, 2));"
   ]
  },
  {
   "cell_type": "markdown",
   "id": "d35881ff",
   "metadata": {},
   "source": [
    "# Question 4 C#\n",
    "Write a program in C# Sharp to separate odd and even integers in separate arrays. "
   ]
  },
  {
   "cell_type": "code",
   "execution_count": null,
   "id": "fda595f6",
   "metadata": {},
   "outputs": [],
   "source": [
    "Console.Write(\"Number of elements to be store in the array: \");\n",
    "int elementsInArray = Convert.ToInt32(Console.ReadLine());\n",
    "\n",
    "int[] arr = new int[elementsInArray];\n",
    "int[] evenArray = new int[elementsInArray];\n",
    "int[] oddArray = new int[elementsInArray];\n",
    "\n",
    "\n",
    "for (int i = 0; i < elementsInArray; i++)\n",
    "        {\n",
    "            Console.WriteLine($\"Element - {i} : \");\n",
    "            arr[i] = Convert.ToInt32(Console.ReadLine());\n",
    "        }\n",
    "\n",
    "        int evenCount = 0;\n",
    "        int oddCount = 0;\n",
    "\n",
    "        foreach (int num in arr)\n",
    "        {\n",
    "            if (num % 2 == 0)\n",
    "            {\n",
    "                evenArray[evenCount] = num;\n",
    "                evenCount++;\n",
    "            }\n",
    "            else\n",
    "            {\n",
    "                oddArray[oddCount] = num;\n",
    "                oddCount++;\n",
    "            }\n",
    "        }\n",
    "\n",
    "        Console.WriteLine(\"The Even elements are:\");\n",
    "        for (int i = 0; i < evenCount; i++)\n",
    "        {\n",
    "            Console.Write(evenArray[i] + \" \");\n",
    "        }\n",
    "\n",
    "        Console.WriteLine(\"\\nThe Odd elements are:\");\n",
    "        for (int i = 0; i < oddCount; i++)\n",
    "        {\n",
    "            Console.Write(oddArray[i] + \" \");\n",
    "        }\n",
    "//since jupyter is not taking input values, visual studio code was used to run it and the screenshot below is from that terminal        "
   ]
  },
  {
   "attachments": {
    "4-2.png": {
     "image/png": "[encoded data removed]"
    }
   },
   "cell_type": "markdown",
   "id": "8fdf81ee",
   "metadata": {},
   "source": [
    "![4-2.png](attachment:4-2.png)"
   ]
  },
  {
   "cell_type": "markdown",
   "id": "a7070038",
   "metadata": {},
   "source": [
    "# Question 5 C#\n",
    "a. Write a function inside(x,y,x1,y1,x2,y2) that returns True or False \n",
    "depending on whether the point (x,y) lies in the rectangle with lower left \n",
    "corner (x1,y1) and upper right corner (x2,y2).\n",
    "* inside(1,1,0,0,2,3)\n",
    "True\n",
    "* inside(-1,-1,0,0,2,3)\n",
    "False"
   ]
  },
  {
   "cell_type": "code",
   "execution_count": 11,
   "id": "4cae298f",
   "metadata": {},
   "outputs": [
    {
     "name": "stdout",
     "output_type": "stream",
     "text": [
      "True\n",
      "False\n"
     ]
    }
   ],
   "source": [
    "bool inside(double x, double y, double x1, double y1, double x2, double y2)\n",
    "{\n",
    "    return x >= x1 && x <= x2 && y >= y1 && y <= y2;\n",
    "}\n",
    "\n",
    "Console.WriteLine(inside(1, 1, 0, 0, 2, 3));\n",
    "\n",
    "Console.WriteLine(inside(-1, -1, 0, 0, 2, 3));\n"
   ]
  },
  {
   "cell_type": "markdown",
   "id": "efadbea7",
   "metadata": {},
   "source": [
    "b. Use function inside() from part a. to write an expression that tests whether \n",
    "the point (1,1) lies in both of the following rectangles: one with lower left \n",
    "corner (0.3, 0.5) and upper right corner (1.1, 0.7) and the other with lower \n",
    "left corner (0.5, 0.2) and upper right corner (1.1, 2)"
   ]
  },
  {
   "cell_type": "code",
   "execution_count": 15,
   "id": "bfc75e88",
   "metadata": {},
   "outputs": [
    {
     "name": "stdout",
     "output_type": "stream",
     "text": [
      "The Point (1,1) does not lies in both of the rectangles\r\n"
     ]
    }
   ],
   "source": [
    "bool isInsideRectangle1 = inside(1, 1, 0.3, 0.5, 1.1, 0.7);\n",
    "bool isInsideRectangle2 = inside(1, 1, 0.5, 0.2, 1.1, 2);\n",
    "\n",
    "if (isInsideRectangle1 && isInsideRectangle2)\n",
    "{\n",
    "    Console.WriteLine(\"The Point (1,1) lies in both of the rectangles\");\n",
    "}\n",
    "else\n",
    "{\n",
    "    Console.WriteLine(\"The Point (1,1) does not lies in both of the rectangles\");\n",
    "\n",
    "}"
   ]
  }
 ],
 "metadata": {
  "kernelspec": {
   "display_name": ".NET (C#)",
   "language": "C#",
   "name": ".net-csharp"
  },
  "language_info": {
   "file_extension": ".cs",
   "mimetype": "text/x-csharp",
   "name": "C#",
   "pygments_lexer": "csharp",
   "version": "8.0"
  }
 },
 "nbformat": 4,
 "nbformat_minor": 5
}
